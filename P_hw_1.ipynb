{
  "nbformat": 4,
  "nbformat_minor": 0,
  "metadata": {
    "colab": {
      "name": "P_hw_1.ipynb",
      "provenance": [],
      "collapsed_sections": []
    },
    "kernelspec": {
      "name": "python3",
      "display_name": "Python 3"
    },
    "language_info": {
      "name": "python"
    }
  },
  "cells": [
    {
      "cell_type": "code",
      "metadata": {
        "id": "wh_rZnhlC1UU"
      },
      "source": [
        ""
      ],
      "execution_count": null,
      "outputs": []
    },
    {
      "cell_type": "markdown",
      "metadata": {
        "id": "PT7RHpAwH1xd"
      },
      "source": [
        "# 1: WAP to check if a number is even or odd"
      ]
    },
    {
      "cell_type": "code",
      "metadata": {
        "colab": {
          "base_uri": "https://localhost:8080/"
        },
        "id": "wTNMDoEZIEyM",
        "outputId": "f2ad900d-f605-47cf-b292-87b2e04e0354"
      },
      "source": [
        "x=592\n",
        "r=x%2\n",
        "if(r==0):\n",
        "  print(\"the number is even\")\n",
        "else:\n",
        "  print(\"the number is odd\")"
      ],
      "execution_count": 3,
      "outputs": [
        {
          "output_type": "stream",
          "name": "stdout",
          "text": [
            "the number is even\n"
          ]
        }
      ]
    },
    {
      "cell_type": "code",
      "metadata": {
        "id": "bgg5X7-BIT6Y"
      },
      "source": [
        ""
      ],
      "execution_count": null,
      "outputs": []
    },
    {
      "cell_type": "markdown",
      "metadata": {
        "id": "aAC4riotIs48"
      },
      "source": [
        "### 2: WAP to reverse a number"
      ]
    },
    {
      "cell_type": "code",
      "metadata": {
        "colab": {
          "base_uri": "https://localhost:8080/"
        },
        "id": "-KeAoum4I2Fb",
        "outputId": "51f16822-b78e-4fa8-98d9-9186ed7f4f8c"
      },
      "source": [
        "x=777856\n",
        "n=0\n",
        "while(int(x)!=0):\n",
        "  r=int(x)%10\n",
        "  n=n*10+r\n",
        "  x=int(x)/10\n",
        "print(n)"
      ],
      "execution_count": 19,
      "outputs": [
        {
          "output_type": "stream",
          "name": "stdout",
          "text": [
            "658777\n"
          ]
        }
      ]
    },
    {
      "cell_type": "code",
      "metadata": {
        "id": "N-tvEkpeJYXg"
      },
      "source": [
        ""
      ],
      "execution_count": null,
      "outputs": []
    },
    {
      "cell_type": "markdown",
      "metadata": {
        "id": "EEdICi9sQY0G"
      },
      "source": [
        "## 3: WAP to check if a number is prime or not"
      ]
    },
    {
      "cell_type": "code",
      "metadata": {
        "colab": {
          "base_uri": "https://localhost:8080/"
        },
        "id": "ixVWfqw5Qfrr",
        "outputId": "eee34efa-8f50-445a-f22c-c77cab913a37"
      },
      "source": [
        "x=121\n",
        "i=2\n",
        "f=0\n",
        "while(i<13):\n",
        "  r=x%i\n",
        "  if(r==0):\n",
        "    f=1\n",
        "  i+=1\n",
        "if(f==0):\n",
        "  print(\"The number is prime\")\n",
        "else:\n",
        "  print(\"The number is not a prime number\")"
      ],
      "execution_count": 23,
      "outputs": [
        {
          "output_type": "stream",
          "name": "stdout",
          "text": [
            "The number is not a prime number\n"
          ]
        }
      ]
    },
    {
      "cell_type": "code",
      "metadata": {
        "id": "ieGqKLVMRBAe"
      },
      "source": [
        ""
      ],
      "execution_count": null,
      "outputs": []
    },
    {
      "cell_type": "markdown",
      "metadata": {
        "id": "NjSN_OPARhR9"
      },
      "source": [
        "### 4:WAP to run a loop and check divisibility by 3 and 5"
      ]
    },
    {
      "cell_type": "code",
      "metadata": {
        "colab": {
          "base_uri": "https://localhost:8080/"
        },
        "id": "Ed8zSIdmRsBQ",
        "outputId": "a6453c08-103e-4532-81d9-57feb3d4dbc7"
      },
      "source": [
        "for i in range(0,100):\n",
        " if((i%3==0) & (i%5==0)):\n",
        "   print(\"YES 3 AND 5 FOR\"+\" \"+ str(i))\n",
        " elif((i%3==0) & (i%5!=0)):\n",
        "    print(\"YES 3 FOR\"+\" \"+str(i))\n",
        " elif((i%3!=0) & (i%5==0)):\n",
        "    print(\"YES 5 FOR\"+\" \"+str(i))\n",
        "\n"
      ],
      "execution_count": 53,
      "outputs": [
        {
          "output_type": "stream",
          "name": "stdout",
          "text": [
            "YES 3 AND 5 FOR 0\n",
            "YES 3 FOR 3\n",
            "YES 5 FOR 5\n",
            "YES 3 FOR 6\n",
            "YES 3 FOR 9\n",
            "YES 5 FOR 10\n",
            "YES 3 FOR 12\n",
            "YES 3 AND 5 FOR 15\n",
            "YES 3 FOR 18\n",
            "YES 5 FOR 20\n",
            "YES 3 FOR 21\n",
            "YES 3 FOR 24\n",
            "YES 5 FOR 25\n",
            "YES 3 FOR 27\n",
            "YES 3 AND 5 FOR 30\n",
            "YES 3 FOR 33\n",
            "YES 5 FOR 35\n",
            "YES 3 FOR 36\n",
            "YES 3 FOR 39\n",
            "YES 5 FOR 40\n",
            "YES 3 FOR 42\n",
            "YES 3 AND 5 FOR 45\n",
            "YES 3 FOR 48\n",
            "YES 5 FOR 50\n",
            "YES 3 FOR 51\n",
            "YES 3 FOR 54\n",
            "YES 5 FOR 55\n",
            "YES 3 FOR 57\n",
            "YES 3 AND 5 FOR 60\n",
            "YES 3 FOR 63\n",
            "YES 5 FOR 65\n",
            "YES 3 FOR 66\n",
            "YES 3 FOR 69\n",
            "YES 5 FOR 70\n",
            "YES 3 FOR 72\n",
            "YES 3 AND 5 FOR 75\n",
            "YES 3 FOR 78\n",
            "YES 5 FOR 80\n",
            "YES 3 FOR 81\n",
            "YES 3 FOR 84\n",
            "YES 5 FOR 85\n",
            "YES 3 FOR 87\n",
            "YES 3 AND 5 FOR 90\n",
            "YES 3 FOR 93\n",
            "YES 5 FOR 95\n",
            "YES 3 FOR 96\n",
            "YES 3 FOR 99\n"
          ]
        }
      ]
    },
    {
      "cell_type": "code",
      "metadata": {
        "id": "uE0WEDAJUE1m"
      },
      "source": [
        ""
      ],
      "execution_count": null,
      "outputs": []
    }
  ]
}