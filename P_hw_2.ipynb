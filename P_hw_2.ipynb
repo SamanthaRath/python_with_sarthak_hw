{
  "nbformat": 4,
  "nbformat_minor": 0,
  "metadata": {
    "colab": {
      "name": "P_hw_2",
      "provenance": []
    },
    "kernelspec": {
      "name": "python3",
      "display_name": "Python 3"
    },
    "language_info": {
      "name": "python"
    }
  },
  "cells": [
    {
      "cell_type": "markdown",
      "metadata": {
        "id": "diInsc47Vjv5"
      },
      "source": [
        "## 1:WAP to calculate the equations of motion"
      ]
    },
    {
      "cell_type": "code",
      "metadata": {
        "colab": {
          "base_uri": "https://localhost:8080/"
        },
        "id": "JO2fT2CuVoAA",
        "outputId": "87aa1e24-7338-44ca-e484-4f7205cc7a09"
      },
      "source": [
        "u=int(input(\"Enter the initial velocity\"))\n",
        "t=int(input(\"Enter time\"))\n",
        "a=int(input(\"Enter acceleration\"))\n",
        "v=u+a*t\n",
        "print(\"The final velocity is \",v)\n",
        "s=u*t+0.5*a*(t**2)\n",
        "print(\"Distance travelled is \",s)\n",
        "v_sqr=u**2+2*a*s\n",
        "print(\"The value of v^2 is \",v_sqr)"
      ],
      "execution_count": 1,
      "outputs": [
        {
          "output_type": "stream",
          "name": "stdout",
          "text": [
            "Enter the initial velocity5\n",
            "Enter time4\n",
            "Enter acceleration8\n",
            "The final velocity is  37\n",
            "Distance travelled is  84.0\n",
            "The value of v^2 is  1369.0\n"
          ]
        }
      ]
    },
    {
      "cell_type": "markdown",
      "metadata": {
        "id": "7Uy3olAni_PS"
      },
      "source": [
        "### 2.1 Function for roots of quadratic equation"
      ]
    },
    {
      "cell_type": "code",
      "metadata": {
        "colab": {
          "base_uri": "https://localhost:8080/"
        },
        "id": "Ms-sS-G1jIX7",
        "outputId": "63222ae6-0def-4752-9600-ba2e0068f0b4"
      },
      "source": [
        "def my_func(a,b,c):\n",
        "  s=(b**2-(4*a*c))**0.5\n",
        "  t=-b\n",
        "  r1=(t+s)/(2*a)\n",
        "  r2=(t-s)/(2*a)\n",
        "  print(\"The first root is \",r1)\n",
        "  print(\"The second root is \",r2)\n",
        "a=float(input(\"Enter the co-efficient of x^2 \"))\n",
        "b=float(input(\"Enter the co-efficient of x \"))\n",
        "c=float(input(\"Enter the constant co-efficient \"))\n",
        "if(a==0):\n",
        "  print(\"Incorrect coefficient value\")\n",
        "else:\n",
        "  my_func(a,b,c)"
      ],
      "execution_count": 4,
      "outputs": [
        {
          "output_type": "stream",
          "name": "stdout",
          "text": [
            "Enter the co-efficient of x^2 8\n",
            "Enter the co-efficient of x 25\n",
            "Enter the constant co-efficient 4\n",
            "The first root is  -0.1691564493995028\n",
            "The second root is  -2.9558435506004974\n"
          ]
        }
      ]
    },
    {
      "cell_type": "markdown",
      "metadata": {
        "id": "AQu6oR34pI7W"
      },
      "source": [
        "2.2 More accurate function for roots"
      ]
    },
    {
      "cell_type": "code",
      "metadata": {
        "colab": {
          "base_uri": "https://localhost:8080/"
        },
        "id": "IZvP-c7Mn8HZ",
        "outputId": "97b5072f-6eb9-4b07-89a8-782a030ed923"
      },
      "source": [
        "def my_func(a,b,c):\n",
        "  dis=(b**2)-(4*a*c)\n",
        "  s=abs(dis)**0.5\n",
        "  print(\"The discriminant is\",dis)\n",
        "  f=-b\n",
        "  if(dis>0):\n",
        "    print(\"The roots are real\")\n",
        "    r1=(f+s)/(2*a)\n",
        "    r2=(f-s)/(2*a)\n",
        "    print(\"The first root is \",r1)\n",
        "    print(\"The second root is \",r2)\n",
        "  if(dis==0):\n",
        "    print(\"The roots are same\")\n",
        "    r=f/2*a\n",
        "    print(r)\n",
        "  if(dis<0):\n",
        "    print(\"The roots are complex\")\n",
        "    #c1=f/(2*a),\" +i\",s\n",
        "    #c2=f/(2*a),\" -i\",s\n",
        "    print(f/(2*a),\" +i\",s/(2*a))\n",
        "    print(f/(2*a),\" -i\",s/(2*a))\n",
        "a=float(input(\"Enter the co-efficient of x^2 \"))\n",
        "b=float(input(\"Enter the co-efficient of x \"))\n",
        "c=float(input(\"Enter the constant co-efficient \"))\n",
        "if(a==0):\n",
        "  print(\"Incorrect coefficient value\")\n",
        "else:\n",
        "  my_func(a,b,c)"
      ],
      "execution_count": 18,
      "outputs": [
        {
          "output_type": "stream",
          "name": "stdout",
          "text": [
            "Enter the co-efficient of x^2 8\n",
            "Enter the co-efficient of x 6\n",
            "Enter the constant co-efficient 4\n",
            "The discriminant is -92.0\n",
            "The roots are complex\n",
            "-0.375  +i 0.5994789404140899\n",
            "-0.375  -i 0.5994789404140899\n"
          ]
        }
      ]
    },
    {
      "cell_type": "markdown",
      "metadata": {
        "id": "lsc2NuyPxL97"
      },
      "source": [
        "### 3. Function for equation of a circle"
      ]
    },
    {
      "cell_type": "code",
      "metadata": {
        "id": "YaBPsExexV0J"
      },
      "source": [
        "def circle(x,y,h,k):\n",
        "  s1=(x-h)**2\n",
        "  s2=(y-k)**2\n",
        "  r_sqr=s1+s2\n",
        "  return(r)"
      ],
      "execution_count": 16,
      "outputs": []
    },
    {
      "cell_type": "code",
      "metadata": {
        "id": "bDUoqMJ8xmcs"
      },
      "source": [
        ""
      ],
      "execution_count": null,
      "outputs": []
    }
  ]
}